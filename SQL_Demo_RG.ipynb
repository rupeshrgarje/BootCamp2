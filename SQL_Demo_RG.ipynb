{
  "nbformat": 4,
  "nbformat_minor": 0,
  "metadata": {
    "colab": {
      "provenance": [],
      "authorship_tag": "ABX9TyNRood5XFhyTvDitpTNmjmy",
      "include_colab_link": true
    },
    "kernelspec": {
      "name": "python3",
      "display_name": "Python 3"
    },
    "language_info": {
      "name": "python"
    }
  },
  "cells": [
    {
      "cell_type": "markdown",
      "metadata": {
        "id": "view-in-github",
        "colab_type": "text"
      },
      "source": [
        "<a href=\"https://colab.research.google.com/github/rupeshrgarje/BootCamp2/blob/main/SQL_Demo_RG.ipynb\" target=\"_parent\"><img src=\"https://colab.research.google.com/assets/colab-badge.svg\" alt=\"Open In Colab\"/></a>"
      ]
    },
    {
      "cell_type": "code",
      "execution_count": 1,
      "metadata": {
        "id": "l7oBQl372eU6"
      },
      "outputs": [],
      "source": [
        "# Importing Library\n",
        "import sqlite3"
      ]
    },
    {
      "cell_type": "code",
      "source": [
        "# Connect to sqdlite db\n",
        "conn = sqlite3.connect(':memory:')\n",
        "cursor = conn.cursor()"
      ],
      "metadata": {
        "id": "XcYwPAT-2kaz"
      },
      "execution_count": 2,
      "outputs": []
    },
    {
      "cell_type": "code",
      "source": [
        "# Create Table\n",
        "# CREATE TABLE TABLE_NAME\n",
        "cursor.execute('''\n",
        "CREATE TABLE students (\n",
        "  id INTEGER PRIMARY KEY,\n",
        "  name TEXT,\n",
        "  age INTEGER,\n",
        "  grade TEXT\n",
        ")\n",
        "''')"
      ],
      "metadata": {
        "colab": {
          "base_uri": "https://localhost:8080/"
        },
        "id": "OYCwzUtH2nGC",
        "outputId": "fcc01207-42fb-45b5-8ec3-767193c379e7"
      },
      "execution_count": 4,
      "outputs": [
        {
          "output_type": "execute_result",
          "data": {
            "text/plain": [
              "<sqlite3.Cursor at 0x7bbbcd1191c0>"
            ]
          },
          "metadata": {},
          "execution_count": 4
        }
      ]
    },
    {
      "cell_type": "code",
      "source": [
        "# Insert Data to the Table\n",
        "#INSERT INTO TABLE_NAME(COLUMN1, COLUMN2,...COLUMNn) VALUES (VALUE1,VALUE2,...VALUEn)\n",
        "cursor.execute('''\n",
        "INSERT INTO students (name, age, grade) VALUES ('John Doe', 21, 'A')\n",
        "''')"
      ],
      "metadata": {
        "colab": {
          "base_uri": "https://localhost:8080/"
        },
        "id": "l1cULPlN2s_a",
        "outputId": "f5e7d7f1-3aa8-491b-a29f-a30328aacbda"
      },
      "execution_count": 5,
      "outputs": [
        {
          "output_type": "execute_result",
          "data": {
            "text/plain": [
              "<sqlite3.Cursor at 0x7bbbcd1191c0>"
            ]
          },
          "metadata": {},
          "execution_count": 5
        }
      ]
    },
    {
      "cell_type": "code",
      "source": [
        "cursor.execute('''\n",
        "INSERT INTO students (name, age, grade) VALUES ('Jane Smith', 22, 'B')\n",
        "''')\n",
        "cursor.execute('''\n",
        "INSERT INTO students (name, age, grade) VALUES  ('Ravi', 20, 'B')\n",
        "''')\n",
        "cursor.execute('''\n",
        "INSERT INTO students (name, age, grade) VALUES  ('Raja', 23, 'C')\n",
        "''')"
      ],
      "metadata": {
        "colab": {
          "base_uri": "https://localhost:8080/"
        },
        "id": "iJEO2jyv2u9q",
        "outputId": "e9c5500a-fd71-4828-f6a3-23b75ed599c3"
      },
      "execution_count": 6,
      "outputs": [
        {
          "output_type": "execute_result",
          "data": {
            "text/plain": [
              "<sqlite3.Cursor at 0x7bbbcd1191c0>"
            ]
          },
          "metadata": {},
          "execution_count": 6
        }
      ]
    },
    {
      "cell_type": "code",
      "source": [
        "# Commit the changes\n",
        "conn.commit()"
      ],
      "metadata": {
        "id": "ATSZBbWp2w75"
      },
      "execution_count": 7,
      "outputs": []
    },
    {
      "cell_type": "code",
      "source": [
        "# Display the data in Table\n",
        "# SELECT COLUMN_NAME FROM TABLE_NAME\n",
        "cursor.execute('''\n",
        "SELECT * FROM students\n",
        "''')"
      ],
      "metadata": {
        "colab": {
          "base_uri": "https://localhost:8080/"
        },
        "id": "An87-VsD2zF5",
        "outputId": "90243782-f86a-4b26-ff22-3dfe64dc499a"
      },
      "execution_count": 8,
      "outputs": [
        {
          "output_type": "execute_result",
          "data": {
            "text/plain": [
              "<sqlite3.Cursor at 0x7bbbcd1191c0>"
            ]
          },
          "metadata": {},
          "execution_count": 8
        }
      ]
    },
    {
      "cell_type": "code",
      "source": [
        "rows = cursor.fetchall()"
      ],
      "metadata": {
        "id": "zmwyIQ5x20Mx"
      },
      "execution_count": 9,
      "outputs": []
    },
    {
      "cell_type": "code",
      "source": [
        "for row in rows:\n",
        "  print(row)"
      ],
      "metadata": {
        "colab": {
          "base_uri": "https://localhost:8080/"
        },
        "id": "Fr1c_d_322aC",
        "outputId": "62f17a9d-5e21-43aa-af3a-311cf9f67b0b"
      },
      "execution_count": 10,
      "outputs": [
        {
          "output_type": "stream",
          "name": "stdout",
          "text": [
            "(1, 'John Doe', 21, 'A')\n",
            "(2, 'Jane Smith', 22, 'B')\n",
            "(3, 'Ravi', 20, 'B')\n",
            "(4, 'Raja', 23, 'C')\n"
          ]
        }
      ]
    },
    {
      "cell_type": "code",
      "source": [
        "# Delete record were name is Raja\n",
        "cursor.execute('''\n",
        "DELETE FROM students WHERE name = 'Raja'\n",
        "''')\n"
      ],
      "metadata": {
        "colab": {
          "base_uri": "https://localhost:8080/"
        },
        "id": "Nsm27WhO24Cx",
        "outputId": "01add080-e7cc-48d3-d84d-01dbf40c5d33"
      },
      "execution_count": 15,
      "outputs": [
        {
          "output_type": "execute_result",
          "data": {
            "text/plain": [
              "<sqlite3.Cursor at 0x7bbbcd1191c0>"
            ]
          },
          "metadata": {},
          "execution_count": 15
        }
      ]
    },
    {
      "cell_type": "code",
      "source": [
        "# Display the data in Table\n",
        "# SELECT COLUMN_NAME FROM TABLE_NAME\n",
        "cursor.execute('''\n",
        "SELECT * FROM students\n",
        "''')"
      ],
      "metadata": {
        "colab": {
          "base_uri": "https://localhost:8080/"
        },
        "id": "xSwCErv95Eub",
        "outputId": "4c77c460-8a91-403c-c381-ca87af378db8"
      },
      "execution_count": 26,
      "outputs": [
        {
          "output_type": "execute_result",
          "data": {
            "text/plain": [
              "<sqlite3.Cursor at 0x7bbbcd1191c0>"
            ]
          },
          "metadata": {},
          "execution_count": 26
        }
      ]
    },
    {
      "cell_type": "code",
      "source": [],
      "metadata": {
        "id": "A_s9mNu75FWm"
      },
      "execution_count": null,
      "outputs": []
    },
    {
      "cell_type": "code",
      "source": [
        "rows = cursor.fetchall()\n",
        "for row in rows:\n",
        "  print(row)"
      ],
      "metadata": {
        "colab": {
          "base_uri": "https://localhost:8080/"
        },
        "id": "NS11NoQI25eg",
        "outputId": "ecd4095a-39d3-4089-f483-b541424712f2"
      },
      "execution_count": 27,
      "outputs": [
        {
          "output_type": "stream",
          "name": "stdout",
          "text": [
            "(1, 'John Doe', 21, 'A')\n",
            "(2, 'Jane Smith', 22, 'B')\n",
            "(3, 'Ravi', 30, 'B')\n"
          ]
        }
      ]
    },
    {
      "cell_type": "code",
      "source": [
        "# Update record with age 30 where name is Ravi\n",
        "# UPDATE TABLE_NAME SET FIELD_NAME = VALUE WHERE CONDITION\n",
        "cursor.execute('''\n",
        "UPDATE students SET age = 30 WHERE name = 'Ravi'\n",
        "''')"
      ],
      "metadata": {
        "colab": {
          "base_uri": "https://localhost:8080/"
        },
        "id": "ZDmhGumC29bI",
        "outputId": "0c3b6348-edc5-42dd-96e4-bd0ca872be79"
      },
      "execution_count": 21,
      "outputs": [
        {
          "output_type": "execute_result",
          "data": {
            "text/plain": [
              "<sqlite3.Cursor at 0x7bbbcd1191c0>"
            ]
          },
          "metadata": {},
          "execution_count": 21
        }
      ]
    },
    {
      "cell_type": "code",
      "source": [
        "# Commit the changes\n",
        "conn.commit()"
      ],
      "metadata": {
        "id": "VXA2bgjd4Kz_"
      },
      "execution_count": 22,
      "outputs": []
    },
    {
      "cell_type": "code",
      "source": [
        "# Display the data in Table\n",
        "# SELECT COLUMN_NAME FROM TABLE_NAME\n",
        "cursor.execute('''\n",
        "SELECT * FROM students\n",
        "''')"
      ],
      "metadata": {
        "colab": {
          "base_uri": "https://localhost:8080/"
        },
        "id": "5NNvLX6A4UNX",
        "outputId": "e9b66e57-705a-4aeb-dccf-d8ae42c65c88"
      },
      "execution_count": 24,
      "outputs": [
        {
          "output_type": "execute_result",
          "data": {
            "text/plain": [
              "<sqlite3.Cursor at 0x7bbbcd1191c0>"
            ]
          },
          "metadata": {},
          "execution_count": 24
        }
      ]
    },
    {
      "cell_type": "code",
      "source": [
        "rows = cursor.fetchall()\n",
        "for row in rows:\n",
        "  print(row)"
      ],
      "metadata": {
        "colab": {
          "base_uri": "https://localhost:8080/"
        },
        "id": "Q-wqBYoq3c5o",
        "outputId": "0f19a523-9fd9-48b7-c429-fc554bc1a135"
      },
      "execution_count": 25,
      "outputs": [
        {
          "output_type": "stream",
          "name": "stdout",
          "text": [
            "(1, 'John Doe', 21, 'A')\n",
            "(2, 'Jane Smith', 22, 'B')\n",
            "(3, 'Ravi', 30, 'B')\n"
          ]
        }
      ]
    },
    {
      "cell_type": "code",
      "source": [
        "# create a table_name courses with features, id and course_name\n",
        "cursor.execute('''\n",
        "CREATE TABLE courses (\n",
        "  id INTEGER PRIMARY KEY,\n",
        "  course_name TEXT\n",
        ")\n",
        "''')"
      ],
      "metadata": {
        "colab": {
          "base_uri": "https://localhost:8080/"
        },
        "id": "RpaZ1QGg4-pG",
        "outputId": "629de217-d7f9-4511-b8f7-1830954f8de6"
      },
      "execution_count": 28,
      "outputs": [
        {
          "output_type": "execute_result",
          "data": {
            "text/plain": [
              "<sqlite3.Cursor at 0x7bbbcd1191c0>"
            ]
          },
          "metadata": {},
          "execution_count": 28
        }
      ]
    },
    {
      "cell_type": "code",
      "source": [
        "# Add 3 records with values Mathematics, Physics and Physics\n",
        "#INSERT INTO TABLE_NAME(COLUMN1, COLUMN2,...COLUMNn) VALUES (VALUE1,VALUE2,...VALUEn)\n",
        "cursor.execute('''\n",
        "INSERT INTO courses (course_name) VALUES ('Mathematics')\n",
        "''')\n",
        "cursor.execute('''\n",
        "INSERT INTO courses (course_name) VALUES ('Physics')\n",
        "''')\n",
        "cursor.execute('''\n",
        "INSERT INTO courses (course_name) VALUES ('Physics')\n",
        "''')"
      ],
      "metadata": {
        "colab": {
          "base_uri": "https://localhost:8080/"
        },
        "id": "IEtzvMio57-e",
        "outputId": "5b902e9d-959b-4d65-acfc-a53050a4deb7"
      },
      "execution_count": 32,
      "outputs": [
        {
          "output_type": "execute_result",
          "data": {
            "text/plain": [
              "<sqlite3.Cursor at 0x7bbbcd1191c0>"
            ]
          },
          "metadata": {},
          "execution_count": 32
        }
      ]
    },
    {
      "cell_type": "code",
      "source": [
        "# Commit the changes\n",
        "conn.commit()"
      ],
      "metadata": {
        "id": "hit0XYEy7CNc"
      },
      "execution_count": 33,
      "outputs": []
    },
    {
      "cell_type": "code",
      "source": [
        "# Display the data in Table\n",
        "# SELECT COLUMN_NAME FROM TABLE_NAME\n",
        "cursor.execute('''\n",
        "SELECT * FROM courses\n",
        "''')"
      ],
      "metadata": {
        "colab": {
          "base_uri": "https://localhost:8080/"
        },
        "id": "9u9ICTsd7GwM",
        "outputId": "fdbffab4-686b-42d2-ade7-57155752f242"
      },
      "execution_count": 34,
      "outputs": [
        {
          "output_type": "execute_result",
          "data": {
            "text/plain": [
              "<sqlite3.Cursor at 0x7bbbcd1191c0>"
            ]
          },
          "metadata": {},
          "execution_count": 34
        }
      ]
    },
    {
      "cell_type": "code",
      "source": [
        "rows = cursor.fetchall()\n",
        "for row in rows:\n",
        "  print(row)"
      ],
      "metadata": {
        "colab": {
          "base_uri": "https://localhost:8080/"
        },
        "id": "Vw0Sv8547KaV",
        "outputId": "34f67256-2a4c-4fa2-b088-62e9260e35cc"
      },
      "execution_count": 35,
      "outputs": [
        {
          "output_type": "stream",
          "name": "stdout",
          "text": [
            "(1, 'Mathematics')\n",
            "(2, 'Physics')\n",
            "(3, 'Physics')\n"
          ]
        }
      ]
    },
    {
      "cell_type": "code",
      "source": [
        "# join the tables\n",
        "cursor.execute('''\n",
        "SELECT students.name, courses.course_name from students JOIN courses ON students.id = courses.id\n",
        "''')"
      ],
      "metadata": {
        "colab": {
          "base_uri": "https://localhost:8080/"
        },
        "id": "NS3KpF0a7NYz",
        "outputId": "3b5d26df-7807-4f44-cae3-25d03a580682"
      },
      "execution_count": 37,
      "outputs": [
        {
          "output_type": "execute_result",
          "data": {
            "text/plain": [
              "<sqlite3.Cursor at 0x7bbbcd1191c0>"
            ]
          },
          "metadata": {},
          "execution_count": 37
        }
      ]
    },
    {
      "cell_type": "code",
      "source": [
        "# Commit the changes\n",
        "conn.commit()"
      ],
      "metadata": {
        "id": "yd2QJWoRCRpk"
      },
      "execution_count": 38,
      "outputs": []
    },
    {
      "cell_type": "code",
      "source": [
        "rows = cursor.fetchall()\n",
        "for row in rows:\n",
        "  print(row)"
      ],
      "metadata": {
        "colab": {
          "base_uri": "https://localhost:8080/"
        },
        "id": "Z31iI_53CUZk",
        "outputId": "96d795a5-5c52-477c-a6b4-8d4f39b09c01"
      },
      "execution_count": 39,
      "outputs": [
        {
          "output_type": "stream",
          "name": "stdout",
          "text": [
            "('John Doe', 'Mathematics')\n",
            "('Jane Smith', 'Physics')\n",
            "('Ravi', 'Physics')\n"
          ]
        }
      ]
    },
    {
      "cell_type": "code",
      "source": [
        "# Aggregate operation\n",
        "cursor.execute('''\n",
        "SELECT courses.course_name, count(*) as students from courses\n",
        "join students on courses.id = students.id\n",
        "group by courses.course_name\n",
        "''')"
      ],
      "metadata": {
        "colab": {
          "base_uri": "https://localhost:8080/"
        },
        "id": "FlvbIyKYCYtd",
        "outputId": "7d806877-aec7-4eaf-9b7d-4e1d3e9d4b1e"
      },
      "execution_count": 55,
      "outputs": [
        {
          "output_type": "execute_result",
          "data": {
            "text/plain": [
              "<sqlite3.Cursor at 0x7bbbcd1191c0>"
            ]
          },
          "metadata": {},
          "execution_count": 55
        }
      ]
    },
    {
      "cell_type": "code",
      "source": [],
      "metadata": {
        "id": "TlPXbnHdKHAE"
      },
      "execution_count": null,
      "outputs": []
    },
    {
      "cell_type": "code",
      "source": [
        "# Commit the changes\n",
        "conn.commit()"
      ],
      "metadata": {
        "id": "29dS9KIUCmYE"
      },
      "execution_count": 56,
      "outputs": []
    },
    {
      "cell_type": "code",
      "source": [],
      "metadata": {
        "id": "LONPLvqkKHdj"
      },
      "execution_count": null,
      "outputs": []
    },
    {
      "cell_type": "code",
      "source": [
        "rows = cursor.fetchall()\n",
        "print(\"\\nGrouped Data:\")\n",
        "for row in rows:\n",
        "  print(row)"
      ],
      "metadata": {
        "colab": {
          "base_uri": "https://localhost:8080/"
        },
        "id": "Qo_BA0mnCohE",
        "outputId": "31380602-8412-4416-9209-00d5ecdefc79"
      },
      "execution_count": 57,
      "outputs": [
        {
          "output_type": "stream",
          "name": "stdout",
          "text": [
            "\n",
            "Grouped Data:\n",
            "('Mathematics', 1)\n",
            "('Physics', 2)\n"
          ]
        }
      ]
    },
    {
      "cell_type": "code",
      "source": [
        "# ORDER BY GRADE FROM STUDENT TABLE IN DESCENDING ORDER\n",
        "cursor.execute('''\n",
        "SELECT name, grade FROM students ORDER BY grade DESC\n",
        "''')"
      ],
      "metadata": {
        "colab": {
          "base_uri": "https://localhost:8080/"
        },
        "id": "8zPxsFDlKH9c",
        "outputId": "7f9a789d-2981-45ab-9f38-d5c86b47a2ee"
      },
      "execution_count": 64,
      "outputs": [
        {
          "output_type": "execute_result",
          "data": {
            "text/plain": [
              "<sqlite3.Cursor at 0x7bbbcd1191c0>"
            ]
          },
          "metadata": {},
          "execution_count": 64
        }
      ]
    },
    {
      "cell_type": "code",
      "source": [],
      "metadata": {
        "id": "sJJGzUnDKhaT"
      },
      "execution_count": null,
      "outputs": []
    },
    {
      "cell_type": "code",
      "source": [
        "# Commit the changes\n",
        "conn.commit()"
      ],
      "metadata": {
        "id": "1RVE-VJ2KWnk"
      },
      "execution_count": 65,
      "outputs": []
    },
    {
      "cell_type": "code",
      "source": [],
      "metadata": {
        "id": "L3LeN0zwKh4b"
      },
      "execution_count": null,
      "outputs": []
    },
    {
      "cell_type": "code",
      "source": [],
      "metadata": {
        "id": "1ncqtJ9MKd2z"
      },
      "execution_count": null,
      "outputs": []
    },
    {
      "cell_type": "code",
      "source": [
        "rows = cursor.fetchall()\n",
        "print(\"\\nGrouped Data:\")\n",
        "for row in rows:\n",
        "  print(row)"
      ],
      "metadata": {
        "colab": {
          "base_uri": "https://localhost:8080/"
        },
        "id": "KdqO6Q12KMbs",
        "outputId": "a1fa66df-2acd-4a9a-f9d7-6d3cf348d31a"
      },
      "execution_count": 66,
      "outputs": [
        {
          "output_type": "stream",
          "name": "stdout",
          "text": [
            "\n",
            "Grouped Data:\n",
            "('Raja', 'C')\n",
            "('Raja', 'C')\n",
            "('Jane Smith', 'B')\n",
            "('Ravi', 'B')\n",
            "('Jane Smith', 'B')\n",
            "('Ravi', 'B')\n",
            "('Jane Smith', 'B')\n",
            "('Ravi', 'B')\n",
            "('John Doe', 'A')\n"
          ]
        }
      ]
    },
    {
      "cell_type": "code",
      "source": [],
      "metadata": {
        "id": "RADq20KJKidj"
      },
      "execution_count": null,
      "outputs": []
    },
    {
      "cell_type": "code",
      "source": [],
      "metadata": {
        "id": "ehrss0GCKerL"
      },
      "execution_count": null,
      "outputs": []
    },
    {
      "cell_type": "code",
      "source": [],
      "metadata": {
        "id": "M5rOsGRVKXJr"
      },
      "execution_count": null,
      "outputs": []
    },
    {
      "cell_type": "code",
      "source": [],
      "metadata": {
        "id": "Ph007TBnKOrV"
      },
      "execution_count": null,
      "outputs": []
    },
    {
      "cell_type": "code",
      "source": [],
      "metadata": {
        "id": "uVrt4B_8KFdk"
      },
      "execution_count": null,
      "outputs": []
    },
    {
      "cell_type": "code",
      "source": [],
      "metadata": {
        "id": "8muA2e6sDzwq"
      },
      "execution_count": null,
      "outputs": []
    },
    {
      "cell_type": "code",
      "source": [],
      "metadata": {
        "id": "BVuB0l5oC7Sr"
      },
      "execution_count": null,
      "outputs": []
    },
    {
      "cell_type": "code",
      "source": [],
      "metadata": {
        "id": "w6eHOFL2CzRz"
      },
      "execution_count": null,
      "outputs": []
    },
    {
      "cell_type": "code",
      "source": [],
      "metadata": {
        "id": "5dY4PnCACp4U"
      },
      "execution_count": null,
      "outputs": []
    },
    {
      "cell_type": "code",
      "source": [],
      "metadata": {
        "id": "a2NXm4omCdec"
      },
      "execution_count": null,
      "outputs": []
    },
    {
      "cell_type": "code",
      "source": [],
      "metadata": {
        "id": "WV19gsn1A0pW"
      },
      "execution_count": null,
      "outputs": []
    },
    {
      "cell_type": "code",
      "source": [],
      "metadata": {
        "id": "qZEptYJi66aV"
      },
      "execution_count": null,
      "outputs": []
    },
    {
      "cell_type": "code",
      "source": [],
      "metadata": {
        "id": "iFN7VNJy6C2l"
      },
      "execution_count": null,
      "outputs": []
    },
    {
      "cell_type": "code",
      "source": [],
      "metadata": {
        "id": "vSh0XtTD4U4H"
      },
      "execution_count": null,
      "outputs": []
    },
    {
      "cell_type": "code",
      "source": [],
      "metadata": {
        "id": "bT-mYkff3oO4"
      },
      "execution_count": null,
      "outputs": []
    },
    {
      "cell_type": "code",
      "source": [],
      "metadata": {
        "id": "JEjiCKX928EY"
      },
      "execution_count": null,
      "outputs": []
    },
    {
      "cell_type": "code",
      "source": [],
      "metadata": {
        "id": "3jeADhRZ2p4h"
      },
      "execution_count": null,
      "outputs": []
    }
  ]
}